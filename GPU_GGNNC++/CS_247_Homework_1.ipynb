{
 "cells": [
  {
   "cell_type": "markdown",
   "metadata": {},
   "source": [
    "# Homework 1 for CS 247 : Advanced Data Mining Learning\n",
    "\n",
    "### Due: 11:59 pm 04/07\n",
    "\n",
    "\n",
    "__Name__: Shen Teng\n",
    "\n",
    "__UID__: 104758168"
   ]
  },
  {
   "cell_type": "markdown",
   "metadata": {},
   "source": [
    "## Problem 1 Multinomial Naive Bayes Optimization\n",
    "\n",
    "For multinomial naive Bayes model, prove the MLE estimator β for what is stated in Slide 21."
   ]
  },
  {
   "cell_type": "markdown",
   "metadata": {},
   "source": [
    "#### Write Your answer here:"
   ]
  },
  {
   "cell_type": "markdown",
   "metadata": {},
   "source": [
    "This  is the log likelihood function\n",
    "$$\n",
    "\\begin{align}log{L{(\\Theta)}}&=\\sum_d{(\\sum_n{x_{dn} log{\\beta_{y_{d}n}}}+log{\\pi_{y_d}}}) \\\\\\end{align}\n",
    "$$\n",
    "Let us apply Lagrange multiplier on it\n",
    "$$\n",
    "\\begin{align}J &= \\sum_d{\\sum_n{x_{dn} log{\\beta_{y_dn}}}}+\\lambda_j(\\sum_n{\\beta_{jn}-1}) \\\\& = \\sum_d{\\sum_n{\\sum_j{\\mathbb{1} (y_d == j) x_{dn} log{\\beta_{jn}}}}+\\lambda_j(\\sum_n{\\beta_{jn}-1})} \\\\\\end{align}\n",
    "$$\n",
    "Take derivative on $ {\\beta_{jn}} $ then set it equal to 0:\n",
    "$$\n",
    "\\begin{align}\n",
    "\\frac{\\partial J} {\\partial {\\beta_{jn}}} = \\sum_d{\\frac {x_{dn}}{\\beta_{jn}}} + \\lambda_j &= 0 \\space where ( j==y_d )\\\\\n",
    "\\sum_d{x_{dn}+\\beta_{jn}\\lambda_j}&=0\n",
    "\\end{align}\n",
    "$$\n",
    "Sum over j n terms:\n",
    "$$\n",
    "\\begin{align}\n",
    "0 &= \\sum_n{\\sum_d{x_dn}}+\\sum_n{\\beta_{jn}\\lambda_j}  \\\\\n",
    "\\lambda_j &= -\\frac{\\sum_n{\\sum_d{x_{dn}}}}{\\sum_n{\\beta_{jn}}}\\\\\n",
    "\\lambda_j &= -{\\sum_n{\\sum_d{x_{dn}}}}\n",
    "\\end{align}\n",
    "$$\n",
    "Plug it back to $\\hat{\\beta_{jn}}$:\n",
    "$$\n",
    "\\begin{align}\n",
    "\\sum_d{x_dn}+\\hat{\\beta_{jn}} \\lambda_j = 0 \\\\\n",
    "\\hat{\\beta_{jn}} = \\frac{- \\sum_{d：y_d == j}{x_{dn}}}{\\lambda_j} \\\\\n",
    "\\hat{\\beta_{jn}} = \\frac{- \\sum_{d：y_d == j}{x_{dn}}}{\\sum_{d:y_d==j}{\\sum_{n'}{x_{dn'}}}}\n",
    "\\end{align}\n",
    "$$"
   ]
  },
  {
   "cell_type": "markdown",
   "metadata": {},
   "source": [
    "## Problem 2:  Multinomial Naive Bayes Implementation\n",
    "\n",
    "\n",
    "In this problem, we'd like you to implement naive bayes, and apply it on a real-world sentiment classification dataset. \n",
    "\n",
    "1. We've provided a general framework \"My_MultinomialNB\" below, please fill ''TODO'' slots. More specifically, you should implement the ***fit***, ***predict_proba_without_log*** and ***predict_log_proba_with_log*** functions. \n",
    "\n",
    "    For function ***fit***, given a training dataset with feature ***X*** and label ***y***, we'd like you to calculate ***beta*** and ***pi*** with a smoothing parameter ***alpha*** (laplace smoothing). \n",
    "\n",
    "    For ***predict_proba_without_log***, given a test dataset with feature X, we'd like you to calculate the predicted probability of each data point using what we've learned in class.\n",
    "\n",
    "    For ***predict_log_proba_with_log***, given a test dataset with feature ***X***, we'd like you to calculate the log probability of each data point, using ***log_beta*** and ***log_pi***. With this function, we can also get probability using ***predict_proba_with_log***"
   ]
  },
  {
   "cell_type": "code",
   "execution_count": 12,
   "metadata": {},
   "outputs": [],
   "source": [
    "class My_MultinomialNB():\n",
    "    \"\"\"\n",
    "    Multinomial Naive Bayes (MultinomialNB)\n",
    "    ==========  \n",
    "    Parameters\n",
    "    ----------\n",
    "    alpha : float, optional (default=1.0)\n",
    "        Additive (Laplace/Lidstone) smoothing parameter\n",
    "        (0 for no smoothing).\n",
    "    \"\"\"\n",
    "\n",
    "    def __init__(self, alpha=1):\n",
    "        self.alpha = alpha\n",
    "\n",
    "    def fit(self, X, y):\n",
    "        self.class_indicator = {}\n",
    "        for i, c in enumerate(np.unique(y)):\n",
    "            self.class_indicator[c] = i\n",
    "        self.n_class = len(self.class_indicator)\n",
    "        self.n_feats = np.shape(X)[1]\n",
    "        \n",
    "        self.beta    = np.zeros((self.n_class, self.n_feats))\n",
    "        self.pi      = np.zeros((self.n_class))\n",
    "        '''\n",
    "            TODO: Calculate self.beta and self.pi\n",
    "        '''\n",
    "       \n",
    "        # calculate BETAs\n",
    "        for idx_doc in range(X.shape[0]):\n",
    "            self.beta[y[idx_doc]] += X[idx_doc] #calculate the numerator\n",
    "        self.beta += self.alpha #add smoothing factor to each element\n",
    "        \n",
    "        #divide by the sum of each category\n",
    "        for idx_doc in range(X.shape[0]):\n",
    "            self.beta[y[idx_doc]] = self.beta[y[idx_doc]]/sum(self.beta[y[idx_doc]]) \n",
    "         \n",
    "        \n",
    "        #calculate PIs\n",
    "        for label in y:\n",
    "            self.pi[self.class_indicator[label]]+=1\n",
    "        self.pi = self.pi / len(y)\n",
    "        \n",
    "            \n",
    "        self.log_beta = np.log(self.beta)\n",
    "        self.log_pi   = np.log(self.pi)\n",
    "        \n",
    "    def predict(self, X, with_log = True):\n",
    "        if with_log:\n",
    "            probability = self.predict_proba_with_log(X)\n",
    "        else:\n",
    "            probability = self.predict_proba_without_log(X)\n",
    "        return np.argmax(probability, axis=1)    \n",
    "    \n",
    "    def predict_proba_without_log(self, X):\n",
    "        prob = np.zeros((len(X), self.n_class))\n",
    "        '''\n",
    "            TODO: Calculate probability of which class each data belongs to, using self.beta and self.pi\n",
    "        '''\n",
    "        for i in range(X.shape[0]):\n",
    "            for j in range(self.n_class):\n",
    "                prob[i][j] = np.prod(self.beta[j] ** X[i]) * self.pi[j]\n",
    "        return prob\n",
    "    \n",
    "    def predict_proba_with_log(self, X):\n",
    "        log_prob = self.predict_log_proba_with_log(X)\n",
    "        return np.exp(log_prob - np.max(log_prob, axis=1).reshape(-1, 1))\n",
    "    \n",
    "    def predict_log_proba_with_log(self, X):\n",
    "        log_prob = np.zeros((len(X), self.n_class))\n",
    "        '''\n",
    "            TODO: Calculate log-probability of which class each data belongs to, using self.log_beta and self.log_pi\n",
    "        '''\n",
    "        log_prob = X.dot(self.log_beta.T)+ self.log_pi\n",
    "        return log_prob"
   ]
  },
  {
   "cell_type": "markdown",
   "metadata": {},
   "source": [
    "2. Try your Multinomial Naive Bayes Implementation on a real-world dataset and compare with the model implemented in *sklearn*.\n",
    "   \n",
    "    We've already provided the data processing code below, which will help you download 20newsgroups dataset and extract word frequency feature for each document. We also provide the code for training and predict the probability of test data, using *sklearn* implementation.\n",
    "    \n",
    "    Now, try to train the model you implement, and calculate the probability of test data using ***predict_proba_without_log*** and ***predict_log_proba_with_log***. Compare the result with what \"e got by *sklearn* model, are they same or not? If they are different, please try to explain the reason."
   ]
  },
  {
   "cell_type": "markdown",
   "metadata": {},
   "source": [
    "**Anwser**: For predict_proba_without_log, sklearn result is different from my result. I think it is because the numbers are really small. Multiplying them several times makes them really close to zero(due to the nature of the float representation). \n",
    "\n",
    "But for predict_log_proba_with_log, they are very similar."
   ]
  },
  {
   "cell_type": "code",
   "execution_count": 13,
   "metadata": {},
   "outputs": [],
   "source": [
    "from sklearn.datasets import fetch_20newsgroups\n",
    "\n",
    "categories = ['alt.atheism', 'soc.religion.christian',  'comp.graphics', 'sci.med']\n",
    "twenty_train = fetch_20newsgroups(subset='train', categories=categories, shuffle=True, random_state=42)\n",
    "twenty_test  = fetch_20newsgroups(subset='test',  categories=categories, shuffle=True, random_state=42)"
   ]
  },
  {
   "cell_type": "code",
   "execution_count": 14,
   "metadata": {},
   "outputs": [],
   "source": [
    "from sklearn.feature_extraction.text import TfidfTransformer, CountVectorizer\n",
    "count_vect = CountVectorizer().fit(twenty_train['data'] + twenty_test['data'])\n",
    "X_train_feature = count_vect.transform(twenty_train['data']).toarray()\n",
    "X_test_feature  = count_vect.transform(twenty_test['data']).toarray()"
   ]
  },
  {
   "cell_type": "code",
   "execution_count": 15,
   "metadata": {},
   "outputs": [],
   "source": [
    "from sklearn.naive_bayes import MultinomialNB\n",
    "clf = MultinomialNB()\n",
    "clf.fit(X_train_feature, twenty_train.target)\n",
    "pred_proba = clf.predict_proba(X_test_feature)\n",
    "pred = clf.predict(X_test_feature)"
   ]
  },
  {
   "cell_type": "code",
   "execution_count": 16,
   "metadata": {},
   "outputs": [],
   "source": [
    "my_clf = My_MultinomialNB()\n",
    "'''\n",
    "    TODO: Train your model, and then get the probability result using \"predict_proba_without_log\" and \"predict_proba_with_log\"\n",
    "'''\n",
    "import numpy as np\n",
    "my_clf.fit(X_train_feature, twenty_train.target)\n",
    "my_pred_proba = my_clf.predict_proba_without_log(X_test_feature)\n",
    "my_pred_proba_log = my_clf.predict_log_proba_with_log(X_test_feature)"
   ]
  },
  {
   "cell_type": "code",
   "execution_count": 17,
   "metadata": {},
   "outputs": [
    {
     "data": {
      "text/plain": [
       "array([[2.38061375e-017, 2.59205885e-025, 1.00000000e+000,\n",
       "        1.20310868e-021],\n",
       "       [3.37631010e-133, 2.75179173e-163, 1.00000000e+000,\n",
       "        6.43247419e-138],\n",
       "       [2.58927085e-004, 4.94679710e-033, 1.00000000e+000,\n",
       "        5.03250023e-016],\n",
       "       ...,\n",
       "       [1.01604625e-041, 8.37145506e-065, 1.00000000e+000,\n",
       "        1.01984918e-043],\n",
       "       [2.15010601e-014, 6.26812388e-014, 1.00000000e+000,\n",
       "        5.05934556e-017],\n",
       "       [9.27230806e-020, 1.00000000e+000, 3.44019677e-020,\n",
       "        4.40514843e-029]])"
      ]
     },
     "execution_count": 17,
     "metadata": {},
     "output_type": "execute_result"
    }
   ],
   "source": [
    "#compare probability\n",
    "my_pred_proba = my_clf.predict_proba_with_log(X_test_feature)\n",
    "my_pred_proba"
   ]
  },
  {
   "cell_type": "code",
   "execution_count": 18,
   "metadata": {},
   "outputs": [
    {
     "data": {
      "text/plain": [
       "array([[2.38061375e-017, 2.59205885e-025, 1.00000000e+000,\n",
       "        1.20310868e-021],\n",
       "       [3.37631010e-133, 2.75179173e-163, 1.00000000e+000,\n",
       "        6.43247419e-138],\n",
       "       [2.58860059e-004, 4.94551658e-033, 9.99741140e-001,\n",
       "        5.03119752e-016],\n",
       "       ...,\n",
       "       [1.01604625e-041, 8.37145507e-065, 1.00000000e+000,\n",
       "        1.01984918e-043],\n",
       "       [2.15010601e-014, 6.26812388e-014, 1.00000000e+000,\n",
       "        5.05934556e-017],\n",
       "       [9.27230806e-020, 1.00000000e+000, 3.44019677e-020,\n",
       "        4.40514843e-029]])"
      ]
     },
     "execution_count": 18,
     "metadata": {},
     "output_type": "execute_result"
    }
   ],
   "source": [
    "pred_proba"
   ]
  },
  {
   "cell_type": "code",
   "execution_count": 26,
   "metadata": {},
   "outputs": [
    {
     "data": {
      "text/plain": [
       "0"
      ]
     },
     "execution_count": 26,
     "metadata": {},
     "output_type": "execute_result"
    }
   ],
   "source": [
    "sum((pred-my_clf.predict(X_test_feature))) #show my prediction is the same as the prediction of sklearn"
   ]
  },
  {
   "cell_type": "markdown",
   "metadata": {},
   "source": [
    "2. Now, provide the evaluation result of your model, using accuracy as evaluation metric. \n",
    "    Next, choose different laplacian smoothing parameter ***alpha***, including (0, 0.001, 0.01, 0.1, 1, 10, 100, 1000). Plot the accuracy curve with different ***alpha*** using *matplotlib* package or *seaborn* package. \n",
    "    \n",
    "3. What is the best ***alpha***? Please explain why when ***alpha*** = 0 and ***alpha*** = 1000, the performance is relatively worse than the best case."
   ]
  },
  {
   "cell_type": "markdown",
   "metadata": {},
   "source": [
    "**Anwser**: \n",
    "Best $alpha$ is 0.01.\n",
    "\n",
    "For $alpha$ = 0, some $\\beta_{ij}$ can be zero since some words are not presented in some categories. This kind of words will make the prediction probablity equal to 0 even though the rest of the wors are be very relevant.\n",
    "\n",
    "For $alpha$ = 1000, it make all words have similar impact since it is too big as a smoothing factor comparing to the input size."
   ]
  },
  {
   "cell_type": "code",
   "execution_count": 9,
   "metadata": {},
   "outputs": [
    {
     "name": "stderr",
     "output_type": "stream",
     "text": [
      "<ipython-input-1-d8e9309368c1>:44: RuntimeWarning: divide by zero encountered in log\n",
      "  self.log_beta = np.log(self.beta)\n"
     ]
    }
   ],
   "source": [
    "def accuracy(y_true, y_pred):\n",
    "    '''\n",
    "        TODO: Implement accuracy metric\n",
    "    '''\n",
    "    return 1-(np.count_nonzero(y_true-y_pred))/len(y_true)\n",
    "\n",
    "accs = []\n",
    "for alpha in [0, 0.001, 0.1, 1, 10, 100, 1000, 10000]:\n",
    "    '''\n",
    "        TODO: Train the model with different alpha, and get corresponding a\n",
    "    '''\n",
    "    my_clf = My_MultinomialNB(alpha)\n",
    "    my_clf.fit(X_train_feature, twenty_train.target)\n",
    "    pred = my_clf.predict(X_test_feature)\n",
    "    accs.append(accuracy(twenty_test['target'],pred))"
   ]
  },
  {
   "cell_type": "code",
   "execution_count": 10,
   "metadata": {},
   "outputs": [
    {
     "data": {
      "image/png": "[encoded data removed]",
      "text/plain": [
       "<Figure size 432x288 with 1 Axes>"
      ]
     },
     "metadata": {
      "needs_background": "light"
     },
     "output_type": "display_data"
    }
   ],
   "source": [
    "import matplotlib.pyplot as plt\n",
    "plt.plot(accs)\n",
    "plt.xticks(np.arange(8), [0, 0.001, 0.01, 0.1, 1, 10, 100, 1000])\n",
    "plt.show()"
   ]
  },
  {
   "cell_type": "code",
   "execution_count": 11,
   "metadata": {},
   "outputs": [
    {
     "data": {
      "text/plain": [
       "[0.2123834886817576,\n",
       " 0.9447403462050599,\n",
       " 0.9507323568575233,\n",
       " 0.9347536617842876,\n",
       " 0.7609853528628495,\n",
       " 0.3588548601864181,\n",
       " 0.27230359520639147,\n",
       " 0.26564580559254325]"
      ]
     },
     "execution_count": 11,
     "metadata": {},
     "output_type": "execute_result"
    }
   ],
   "source": [
    "accs"
   ]
  },
  {
   "cell_type": "code",
   "execution_count": null,
   "metadata": {},
   "outputs": [],
   "source": []
  }
 ],
 "metadata": {
  "kernelspec": {
   "display_name": "Python 3",
   "language": "python",
   "name": "python3"
  },
  "language_info": {
   "codemirror_mode": {
    "name": "ipython",
    "version": 3
   },
   "file_extension": ".py",
   "mimetype": "text/x-python",
   "name": "python",
   "nbconvert_exporter": "python",
   "pygments_lexer": "ipython3",
   "version": "3.8.2"
  }
 },
 "nbformat": 4,
 "nbformat_minor": 2
}
